import pandas as pd


transcript = pd.read_csv('TSSdata_for7942.csv')
noncoding = pd.read_csv('noncodingTSS_for7942.csv')


transcript


noncoding


concat = pd.concat([transcript, noncoding], axis = 1)


concat



