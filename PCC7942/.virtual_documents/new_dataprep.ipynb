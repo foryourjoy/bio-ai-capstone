import pandas as pd


transcript = pd.read_csv('TSSdata_for7942.csv')
noncoding = pd.read_csv('noncodingTSS_for7942.csv')


transcript


noncoding





transcript['Strand'].unique()


transcript.dtypes


trlist = []
comp_dic = {'A':'T','G':'C','C':'G','T':'A'}
prolen = 100 
numpydf = transcript.to_numpy(dtype = 'int32')
print(numpydf[:10])



pccgene = []
pccseq = ''

data = open('pcc7942_final_full','r')
lines = data.readlines()
line = [line.strip() for line in lines]
pccseq = ''.join(line)
data.close()
pccseq = pccseq.upper()
print(pccseq[:500])


len(pccseq)


for i in numpydf:
    # chromosomal DNA
    #positive strands
    if int(i[0]) == 1:
        # pccseq[i[2](TSS) - (prolen+1) (TSS로부터 100bp upstream) : TSS-1] - promoter sequence indexing, i[19]: RNA reads
        if (int(i[1])-(prolen+1)) > 0:
            trlist.append((pccseq[int(i[1])-(prolen+1):int(i[1])-1],i[3]))

    # negative strands
    else:
        compseq = ''
        seq = pccseq[int(i[1]):int(i[1])+prolen]
        for s in seq:
            compseq +=comp_dic[s]
        #역방향으로 complementary seq promoter 추출
        revcomp_seq = compseq[::-1]
        trlist.append((revcomp_seq, i[3]))


trlist


final_list = []


for i in range(len(trlist)):
    final_list.append(trlist[i][0])


df = pd.DataFrame(final_list)
df


df.to_csv('final_7942promoter.csv', index = False)








noncoding['Strand'].unique()


noncoding.dtypes


trlist_n = []
comp_dic = {'A':'T','G':'C','C':'G','T':'A'}
prolen = 100 
numpydf_n = noncoding.to_numpy(dtype = 'int32')
print(numpydf_n[:10])



pccgene = []
pccseq = ''

data = open('pcc7942_final_full','r')
lines = data.readlines()
line = [line.strip() for line in lines]
pccseq = ''.join(line)
data.close()
pccseq = pccseq.upper()
print(pccseq[:500])


len(pccseq)


for i in numpydf_n:
    # chromosomal DNA
    #positive strands
    if int(i[0]) == 1:
        # pccseq[i[2](TSS) - (prolen+1) (TSS로부터 100bp upstream) : TSS-1] - promoter sequence indexing, i[19]: RNA reads
        if (int(i[1])-(prolen+1)) > 0:
            trlist_n.append((pccseq[int(i[1])-(prolen+1):int(i[1])-1],i[3]))

    # negative strands
    else:
        compseq = ''
        seq = pccseq[int(i[1]):int(i[1])+prolen]
        for s in seq:
            compseq +=comp_dic[s]
        #역방향으로 complementary seq promoter 추출
        revcomp_seq = compseq[::-1]
        trlist_n.append((revcomp_seq, i[3]))


trlist_n


final_list_n = []


for i in range(len(trlist_n)):
    final_list_n.append(trlist_n[i][0])


df_n = pd.DataFrame(final_list_n)
df_n


df_n.to_csv('final_7942promoter_noncoding.csv', index = False)



