{
 "cells": [
  {
   "cell_type": "markdown",
   "metadata": {},
   "source": [
    "<span style=\"color:black\"><span style = \"font-size:30px\"> 6-mer frequency analysis</span>\n",
    "&nbsp;&nbsp;&nbsp;\n",
    "   \n",
    "    \n",
    "In this process, we selected four 6-mers, including the top three 6-mers that appear most frequently in native promoters (TAAAAT, TAGAAT, AAAATA) and the bacterial consensus -10 element (TATAAT) and analyzed the distributions of the four 6-mers in the native and synthetic promoters"
   ]
  },
  {
   "cell_type": "markdown",
   "metadata": {},
   "source": [
    "1.\tImport python modules and upload promoter datasets, i.e., native promoter dataset obtained through ‘Acquisition of promoter dataset’ and synthetic promoter dataset generated through ‘VAE training’."
   ]
  },
  {
   "cell_type": "code",
   "execution_count": 1,
   "metadata": {},
   "outputs": [],
   "source": [
    "# 1.\n",
    "\n",
    "import pandas as pd\n",
    "import matplotlib.pyplot as plt\n",
    "#gendata = pd.read_excel('Generated promoters & Candidates.xlsx')\n",
    "natdata = pd.read_csv('final_7942promoter.csv')"
   ]
  },
  {
   "cell_type": "code",
   "execution_count": 2,
   "metadata": {},
   "outputs": [
    {
     "data": {
      "text/html": [
       "<div>\n",
       "<style scoped>\n",
       "    .dataframe tbody tr th:only-of-type {\n",
       "        vertical-align: middle;\n",
       "    }\n",
       "\n",
       "    .dataframe tbody tr th {\n",
       "        vertical-align: top;\n",
       "    }\n",
       "\n",
       "    .dataframe thead th {\n",
       "        text-align: right;\n",
       "    }\n",
       "</style>\n",
       "<table border=\"1\" class=\"dataframe\">\n",
       "  <thead>\n",
       "    <tr style=\"text-align: right;\">\n",
       "      <th></th>\n",
       "      <th>0</th>\n",
       "    </tr>\n",
       "  </thead>\n",
       "  <tbody>\n",
       "    <tr>\n",
       "      <th>0</th>\n",
       "      <td>TCCTGACTTCTATTGTCAGTCGCCAGAGGTTTGTTGTTAAACGTTA...</td>\n",
       "    </tr>\n",
       "    <tr>\n",
       "      <th>1</th>\n",
       "      <td>GTTCTAGTCGGAGTCGGTCAATCGGAACTGTATCCAGCACAGCGAT...</td>\n",
       "    </tr>\n",
       "    <tr>\n",
       "      <th>2</th>\n",
       "      <td>AATCGCTCAGAGTCCACTTCTGTAGTTCGGGATACGGCAAGATAAA...</td>\n",
       "    </tr>\n",
       "    <tr>\n",
       "      <th>3</th>\n",
       "      <td>ATTAATTCAGAACACCCTAACTCACGAGTGCTGGCAATGGTTTGAA...</td>\n",
       "    </tr>\n",
       "    <tr>\n",
       "      <th>4</th>\n",
       "      <td>CGATCGCAGTTCACTACTCGCTACTGCAACAACAGAGCGGACGGAA...</td>\n",
       "    </tr>\n",
       "    <tr>\n",
       "      <th>...</th>\n",
       "      <td>...</td>\n",
       "    </tr>\n",
       "    <tr>\n",
       "      <th>1466</th>\n",
       "      <td>AGTTGGAGGGGCGATCGGTCCCAAACAAAGCCGGATACTGAGGATT...</td>\n",
       "    </tr>\n",
       "    <tr>\n",
       "      <th>1467</th>\n",
       "      <td>CTGGTGCGGGTCCAGAAGTGCTGTTAGCGGCGCTGGAGCAAGTGTC...</td>\n",
       "    </tr>\n",
       "    <tr>\n",
       "      <th>1468</th>\n",
       "      <td>GAAGATGGTCGCCTTGTGAAAGGTGGACTGACCAGCCCTGTGCTCC...</td>\n",
       "    </tr>\n",
       "    <tr>\n",
       "      <th>1469</th>\n",
       "      <td>AAGCTTGGAAGTCTCGCAGCTCCTGGTCGAGGCTGGTATCACTCCC...</td>\n",
       "    </tr>\n",
       "    <tr>\n",
       "      <th>1470</th>\n",
       "      <td>TCAGCAATCTGGAATTGCTGCGGCAGGAGCTAGTCCTCATCCAGCA...</td>\n",
       "    </tr>\n",
       "  </tbody>\n",
       "</table>\n",
       "<p>1471 rows × 1 columns</p>\n",
       "</div>"
      ],
      "text/plain": [
       "                                                      0\n",
       "0     TCCTGACTTCTATTGTCAGTCGCCAGAGGTTTGTTGTTAAACGTTA...\n",
       "1     GTTCTAGTCGGAGTCGGTCAATCGGAACTGTATCCAGCACAGCGAT...\n",
       "2     AATCGCTCAGAGTCCACTTCTGTAGTTCGGGATACGGCAAGATAAA...\n",
       "3     ATTAATTCAGAACACCCTAACTCACGAGTGCTGGCAATGGTTTGAA...\n",
       "4     CGATCGCAGTTCACTACTCGCTACTGCAACAACAGAGCGGACGGAA...\n",
       "...                                                 ...\n",
       "1466  AGTTGGAGGGGCGATCGGTCCCAAACAAAGCCGGATACTGAGGATT...\n",
       "1467  CTGGTGCGGGTCCAGAAGTGCTGTTAGCGGCGCTGGAGCAAGTGTC...\n",
       "1468  GAAGATGGTCGCCTTGTGAAAGGTGGACTGACCAGCCCTGTGCTCC...\n",
       "1469  AAGCTTGGAAGTCTCGCAGCTCCTGGTCGAGGCTGGTATCACTCCC...\n",
       "1470  TCAGCAATCTGGAATTGCTGCGGCAGGAGCTAGTCCTCATCCAGCA...\n",
       "\n",
       "[1471 rows x 1 columns]"
      ]
     },
     "execution_count": 2,
     "metadata": {},
     "output_type": "execute_result"
    }
   ],
   "source": [
    "natdata"
   ]
  },
  {
   "cell_type": "markdown",
   "metadata": {},
   "source": [
    "2.\tDefine the 'sixmer_candidates'. The function returns the list of the 6-mer most frequently observed up to a specified value defined at 'num'th.  "
   ]
  },
  {
   "cell_type": "code",
   "execution_count": 3,
   "metadata": {},
   "outputs": [],
   "source": [
    "# 2. \n",
    "\n",
    "def sixmer_candidates(x, num):\n",
    "    sixmerlist = []\n",
    "    for i in range(3712):\n",
    "        for j in range(20-6+1):\n",
    "            sixmerct.append(x[i][80+j:86+j])\n",
    "    sixmercand =list(set(sixmerlist))\n",
    "    sixmercnt = []\n",
    "    for i in sixmercand:\n",
    "            sixmercnt.append(sixmerlist.count(i))\n",
    "    result = []\n",
    "    cnt = 0\n",
    "    \n",
    "    while cnt<num:\n",
    "        popindex = max(sixmercnt)\n",
    "        result.append(sixmercand[sixmercnt.index(popindex)])\n",
    "        sixmercand.remove(result[-1])\n",
    "        sixmercnt.remove(popindex)\n",
    "    return result"
   ]
  },
  {
   "cell_type": "markdown",
   "metadata": {},
   "source": [
    "3.\tDefine the 'checkseq' function. The 'checkseq' function returns a list of the distribution of every 6-mers in the promoter dataset. "
   ]
  },
  {
   "cell_type": "code",
   "execution_count": 5,
   "metadata": {},
   "outputs": [],
   "source": [
    "# 3.\n",
    "            \n",
    "\n",
    "def checkseq(seq,target,freq):\n",
    "    checklist = []\n",
    "    for j in range(100-6+1):\n",
    "        check = 0\n",
    "        for i in seq:\n",
    "            if i[j:j+6] == target:\n",
    "                check+=1\n",
    "        checklist.append(check/freq)\n",
    "    return checklist\n",
    "\n",
    "#gen_promoter = gendata['promoter'].tolist()\n",
    "nat_promoter = natdata['0'].tolist()\n",
    "#nat_reads = natdata['Reads'].tolist()"
   ]
  },
  {
   "cell_type": "markdown",
   "metadata": {},
   "source": [
    "4. Calculate the frequency of the four 6-mers (TATAAT, TAAAAT, TAGAAT, and AAAATA). "
   ]
  },
  {
   "cell_type": "code",
   "execution_count": 6,
   "metadata": {},
   "outputs": [],
   "source": [
    "# 4.\n",
    "'''\n",
    "nat_tataat = checkseq(nat_promoter,'TATAAT',3712)\n",
    "nat_taaaat = checkseq(nat_promoter,'TAAAAT',3712)\n",
    "nat_tagaat = checkseq(nat_promoter,'TAGAAT',3712)\n",
    "nat_aaaata = checkseq(nat_promoter,'AAAATA',3712)\n",
    "gen_tataat = checkseq(gen_promoter,'TATAAT',10000)\n",
    "gen_taaaat = checkseq(gen_promoter,'TAAAAT',10000)\n",
    "gen_tagaat = checkseq(gen_promoter,'TAGAAT',10000)\n",
    "gen_aaaata = checkseq(gen_promoter,'AAAATA',10000)\n",
    "'''\n",
    "\n",
    "nat_tataat = checkseq(nat_promoter,'TATAAT',1471)"
   ]
  },
  {
   "cell_type": "markdown",
   "metadata": {},
   "source": [
    "5. Plot the 6-mer frequency results using the ‘matplotlib’ module"
   ]
  },
  {
   "cell_type": "code",
   "execution_count": 8,
   "metadata": {
    "scrolled": true
   },
   "outputs": [
    {
     "data": {
      "image/png": "[encoded data removed]",
      "text/plain": [
       "<Figure size 800x800 with 1 Axes>"
      ]
     },
     "metadata": {},
     "output_type": "display_data"
    }
   ],
   "source": [
    "# 5.\n",
    "import numpy as np\n",
    "fig = plt.figure(figsize=(8,8)) \n",
    "fig.set_facecolor('white')\n",
    "ax1 = fig.add_subplot()\n",
    "color1 = 'green'\n",
    "ax1.plot(range(-100,-5), nat_tataat, color=color1, label = 'Natural',linewidth = 4)\n",
    "ax1.set_yticks(np.arange(0.00,0.04,0.008))\n",
    "ax1.tick_params(axis='y')\n",
    "\n",
    "''' \n",
    "color2 = 'orange'\n",
    "ax2 = ax1.twinx()\n",
    "ax2.plot(range(-100,-5), gen_tataat, color=color2,  label = 'Generated',linewidth = 4)\n",
    "ax2.tick_params(axis='y')\n",
    "ax2.set_yticks(np.arange(0.00,0.4,0.08))\n",
    "'''\n",
    "plt.show()"
   ]
  }
 ],
 "metadata": {
  "kernelspec": {
   "display_name": "Python 3 (ipykernel)",
   "language": "python",
   "name": "python3"
  },
  "language_info": {
   "codemirror_mode": {
    "name": "ipython",
    "version": 3
   },
   "file_extension": ".py",
   "mimetype": "text/x-python",
   "name": "python",
   "nbconvert_exporter": "python",
   "pygments_lexer": "ipython3",
   "version": "3.11.0"
  }
 },
 "nbformat": 4,
 "nbformat_minor": 4
}
