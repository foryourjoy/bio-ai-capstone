{
 "cells": [
  {
   "cell_type": "markdown",
   "metadata": {},
   "source": [
    "<span style=\"color:black\"><span style = \"font-size:30px\"> Acquisition of promoter dataset</span>\n",
    "&nbsp;&nbsp;&nbsp;\n",
    "   \n",
    "    \n",
    "From a previous differential RNA-sequencing (dRNA-seq) dataset, we obtained native promoter sequences of Synechocystis sp. PCC 6803. We assumed the 100-base sequences from a transcription start site (TSS) as a promoter and took normalized reads of the corresponding transcript in the dRNA-seq dataset as the promoter strength. Below is the code description for acquiring the promoter dataset.  "
   ]
  },
  {
   "cell_type": "markdown",
   "metadata": {},
   "source": [
    "1.\tTo acquire the promoter dataset from the dRNA-seq dataset, install ‘numpy’ and ‘pandas’ modules, which are modules for handling data arrays and analyzing datasets. "
   ]
  },
  {
   "cell_type": "code",
   "execution_count": 1,
   "metadata": {},
   "outputs": [],
   "source": [
    "# 1.\n",
    "\n",
    "import numpy as np\n",
    "import pandas as pd"
   ]
  },
  {
   "cell_type": "markdown",
   "metadata": {},
   "source": [
    "2.\tObtain the whole genome sequence of Synechocystis sp. PCC 6803 in a long string format."
   ]
  },
  {
   "cell_type": "code",
   "execution_count": 2,
   "metadata": {},
   "outputs": [
    {
     "ename": "SyntaxError",
     "evalue": "EOL while scanning string literal (<ipython-input-2-0a31bb0702d5>, line 7)",
     "output_type": "error",
     "traceback": [
      "\u001b[0;36m  File \u001b[0;32m\"<ipython-input-2-0a31bb0702d5>\"\u001b[0;36m, line \u001b[0;32m7\u001b[0m\n\u001b[0;31m    gspoint = line.index('ORIGIN      \\')\u001b[0m\n\u001b[0m                                         ^\u001b[0m\n\u001b[0;31mSyntaxError\u001b[0m\u001b[0;31m:\u001b[0m EOL while scanning string literal\n"
     ]
    }
   ],
   "source": [
    "# 2.\n",
    "\n",
    "pccgene = []\n",
    "pccseq = ''\n",
    "data = open('Whole_genome_of_synechocystis.txt','r')\n",
    "line = data.readlines()\n",
    "gspoint = line.index('ORIGIN      \\')\n",
    "for i in range(len(line)-gspoint-1):\n",
    "    templist = line[i+gspoint].strip().split()[1:]\n",
    "    for partseq in templist:\n",
    "        pccseq = pccseq+partseq\n",
    "data.close()\n",
    "pccseq = pccseq.upper()"
   ]
  },
  {
   "cell_type": "code",
   "execution_count": 3,
   "metadata": {},
   "outputs": [
    {
     "name": "stdout",
     "output_type": "stream",
     "text": [
      "GGCGCGCCATCGCCGGCTGGCGGAAATTACCGAAATGATCCACACCGCTAGTTTGGTCCACGATGACGTGGTGGATGAGGCGGATCTGCGGCGGAATGTGCCCACGGTGAATAGTTTATTTGACAATCGGGTGGCAGTGTTAGCGGGGGATTTCCTCTTTGCCCAATCTTCTTGGTATTTGGCTAACTTAGATAATTTGGAGGTGGTGAAATTATTATCGGAGGTAATTCGGGACTTTGCGGAGGGGGAAATTTTACAGAGCATCAATCGTTTTGACACCGACACAGATTTAGAAACCTATTTGGAAAAAAGCTATTTTAAAACCGCCTCTCTCATTGCCAACAGTGCCAAGGCAGCGGGGGTTTTGAGCGATGCGCCCCGGGATGTGTGTGATCATCTTTACGAATATGGTAAACATTTGGGGTTAGCGTTCCAGATTGTGGACGATATTTTAGATTTCACTTCCCCCACGGAGGTTTTGGGGAAACCGGCCGGGTCAG\n"
     ]
    }
   ],
   "source": [
    "pccgene = []\n",
    "pccseq = ''\n",
    "\n",
    "data = open('Whole_genome_of_synechocystis.txt','r')\n",
    "lines = data.readlines()\n",
    "line = [line.strip() for line in lines]\n",
    "pccseq = ''.join(line[1:])\n",
    "data.close()\n",
    "pccseq = pccseq.upper()\n",
    "print(pccseq[:500])"
   ]
  },
  {
   "cell_type": "code",
   "execution_count": 4,
   "metadata": {},
   "outputs": [
    {
     "data": {
      "text/plain": [
       "3573470"
      ]
     },
     "execution_count": 4,
     "metadata": {},
     "output_type": "execute_result"
    }
   ],
   "source": [
    "len(pccseq)"
   ]
  },
  {
   "cell_type": "markdown",
   "metadata": {},
   "source": [
    "3.\tExtract the promoter dataset composed of promoter sequences and their strength from the whole genome sequence and the dRNA-seq dataset"
   ]
  },
  {
   "cell_type": "code",
   "execution_count": 5,
   "metadata": {},
   "outputs": [
    {
     "name": "stdout",
     "output_type": "stream",
     "text": [
      "Collecting openpyxl\n",
      "  Downloading openpyxl-3.1.2-py2.py3-none-any.whl (249 kB)\n",
      "\u001b[K     |████████████████████████████████| 249 kB 3.2 MB/s eta 0:00:01\n",
      "\u001b[?25hCollecting et-xmlfile\n",
      "  Downloading et_xmlfile-1.1.0-py3-none-any.whl (4.7 kB)\n",
      "Installing collected packages: et-xmlfile, openpyxl\n",
      "Successfully installed et-xmlfile-1.1.0 openpyxl-3.1.2\n"
     ]
    }
   ],
   "source": [
    "!pip install openpyxl"
   ]
  },
  {
   "cell_type": "code",
   "execution_count": 7,
   "metadata": {},
   "outputs": [
    {
     "name": "stdout",
     "output_type": "stream",
     "text": [
      "[['Chr' 'TU1' 105 6 '-' 'a' nan nan nan nan 0 240 133 230 0 198 193 678\n",
      "  213 106 180 '-N' 678 217.1 3.12 2.83 nan nan nan 'slr0611-2']\n",
      " ['Chr' 'TU2' 577 990 '+' 'gai' nan nan 225.0 nan 1 719 100 594 0 938 875\n",
      "  151 718 643 45 '-Fe' 938 478.3 1.96 1.07 'slr0612'\n",
      "  'probable pseudouridine synthase' 'TU3' nan]\n",
      " ['Chr' 'TU3' 909 810 '-' 'a' nan nan nan nan 0 288 33 326 0 364 205 527\n",
      "  155 372 45 '-N' 527 231.5 2.28 1.42 nan nan 'TU2' 'slr0612']\n",
      " ['Chr' 'TU4' 1532 2150 '+' 'ga' nan nan 45.0 52.0 1 3499 3002 2972 187\n",
      "  3263 2533 3463 3028 834 1261 '15C' 3499 2404.2 1.46 1.01 'slr0613'\n",
      "  'hypothetical protein' 'TU5' 'sll0558']\n",
      " ['Chr' 'TU6' 2151 2701 '+' 'a' nan nan nan nan 0 1390 500 805 37 1248\n",
      "  929 2334 1087 1496 360 '-N' 2334 1018.6 2.29 1.56 nan nan 'TU5'\n",
      "  'sll0558']\n",
      " ['Chr' 'TU5' 2900 2061 '-' 'ga' 2899 nan 27.0 111.0 1 2588 601 518 280\n",
      "  1479 1369 941 1106 802 450 '15C' 2588 1013.4 2.55 1.75 'sll0558'\n",
      "  'hypothetical protein YCF53' 'TU4, TU6' 'slr0613']\n",
      " ['Chr' 'TU7' 3182 2955 '-' 'n' nan nan nan nan 0 383 133 479 19 750 1809\n",
      "  376 175 1873 135 'exp. P.' 1873 613.2 3.05 1.04 nan nan nan nan]\n",
      " ['Chr' 'TU8' 4349 3183 '-' 'g' nan nan 81.0 9.0 1 27323 10473 48166 1869\n",
      "  41807 30289 30077 39882 48480 4818 'exp. P.' 48480 28318.4 1.71 1.01\n",
      "  'sll1214' 'magnesium-protoporphyrin IX monomethyl ester cyclase' nan\n",
      "  nan]\n",
      " ['Chr' 'TU9' 6656 4350 '-' 'g' nan 4988 34.0 101.0 2 1822 33 824 0 1854\n",
      "  2925 565 757 2003 315 'HL' 2925 1109.8 2.64 1.46 'sll1212, sll1213'\n",
      "  'GDP-mannose 4,6-dehydratase , GDP-fucose synthetase' nan nan]\n",
      " ['Chr' 'TU10' 6761 6657 '-' 'n' nan nan nan nan 0 1486 233 2780 19 2347\n",
      "  8377 1995 1300 1742 225 'HL' 8377 2050.4 4.09 3.01 nan nan nan nan]]\n"
     ]
    },
    {
     "name": "stderr",
     "output_type": "stream",
     "text": [
      "/NAS/home/yychoi/miniconda3/envs/capstone/lib/python3.6/site-packages/openpyxl/worksheet/_reader.py:329: UserWarning: Unknown extension is not supported and will be removed\n",
      "  warn(msg)\n"
     ]
    }
   ],
   "source": [
    "# 3.\n",
    "\n",
    "trlist = []\n",
    "comp_dic = {'A':'T','G':'C','C':'G','T':'A'}\n",
    "prolen = 100\n",
    "df = pd.read_excel('Differential_RNA_sequencing_data.xlsx',header = 1,sheet_name = 'S1 - All TUs',engine='openpyxl')\n",
    "numpydf = df.to_numpy()\n",
    "print(numpydf[:10])\n",
    "for i in numpydf:\n",
    "    # chromosomal DNA\n",
    "    if i[0] == 'Chr':\n",
    "        #positive strands\n",
    "        if i[4] == '+':\n",
    "            # pccseq[i[2](TSS) - (prolen+1) (TSS로부터 100bp upstream) : TSS-1] - promoter sequence indexing, i[19]: RNA reads\n",
    "            trlist.append((pccseq[i[2]-(prolen+1):i[2]-1],i[19]))\n",
    "\n",
    "        # negative strands\n",
    "        else:\n",
    "            compseq = ''\n",
    "            seq = pccseq[i[2]:i[2]+prolen]\n",
    "            for s in seq:\n",
    "                compseq +=comp_dic[s]\n",
    "            #역방향으로 complementary seq promoter 추출\n",
    "            revcomp_seq = compseq[::-1]\n",
    "            trlist.append((revcomp_seq, i[19]))\n",
    "    else:\n",
    "        break"
   ]
  },
  {
   "cell_type": "markdown",
   "metadata": {},
   "source": [
    "4.\t Export the promoter dataset containing promoter sequences and their strength. This dataset is a training dataset for the VAE and CNN models. "
   ]
  },
  {
   "cell_type": "code",
   "execution_count": 8,
   "metadata": {},
   "outputs": [],
   "source": [
    "# 4. \n",
    "\n",
    "from openpyxl import Workbook\n",
    "write_wb = Workbook()\n",
    "write_ws = write_wb.active\n",
    "\n",
    "write_ws['A1'] = 'Promoter'\n",
    "write_ws['B1'] = 'Reads'\n",
    "\n",
    "for i in range(len(trlist)):\n",
    "    write_ws.cell(i+2,1,trlist[i][0])\n",
    "    write_ws.cell(i+2,2,trlist[i][1])\n",
    "\n",
    "write_wb.save('Training dataset.xlsx')"
   ]
  },
  {
   "cell_type": "code",
   "execution_count": null,
   "metadata": {},
   "outputs": [],
   "source": []
  }
 ],
 "metadata": {
  "kernelspec": {
   "display_name": "capstonek",
   "language": "python",
   "name": "capstonek"
  },
  "language_info": {
   "codemirror_mode": {
    "name": "ipython",
    "version": 3
   },
   "file_extension": ".py",
   "mimetype": "text/x-python",
   "name": "python",
   "nbconvert_exporter": "python",
   "pygments_lexer": "ipython3",
   "version": "3.6.13"
  }
 },
 "nbformat": 4,
 "nbformat_minor": 4
}
