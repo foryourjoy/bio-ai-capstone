{
 "cells": [
  {
   "cell_type": "code",
   "execution_count": null,
   "id": "71ec9c70-68d3-4836-b484-741e81601c39",
   "metadata": {},
   "outputs": [],
   "source": []
  }
 ],
 "metadata": {
  "kernelspec": {
   "display_name": "capstonek",
   "language": "python",
   "name": "capstonek"
  },
  "language_info": {
   "name": ""
  }
 },
 "nbformat": 4,
 "nbformat_minor": 5
}
