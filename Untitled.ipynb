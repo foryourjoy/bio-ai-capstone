{
 "cells": [
  {
   "cell_type": "code",
   "execution_count": null,
   "id": "07481204-4ccb-4abc-8268-5af22d65322a",
   "metadata": {},
   "outputs": [],
   "source": []
  }
 ],
 "metadata": {
  "kernelspec": {
   "display_name": "capstonek",
   "language": "python",
   "name": "capstonek"
  },
  "language_info": {
   "codemirror_mode": {
    "name": "ipython",
    "version": 3
   },
   "file_extension": ".py",
   "mimetype": "text/x-python",
   "name": "python",
   "nbconvert_exporter": "python",
   "pygments_lexer": "ipython3",
   "version": "3.6.13"
  }
 },
 "nbformat": 4,
 "nbformat_minor": 5
}
