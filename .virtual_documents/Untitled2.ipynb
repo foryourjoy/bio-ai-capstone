!pip install seqlogo


import numpy as np
import pandas as pd
import seqlogo


data = pd.read_csv("PCC6803 Promoter and reads 100bp.csv")
sequences = data['Promoter']
sequences


from collections import Counter
pfm = pd.DataFrame([Counter(seq) for seq in sequences]).fillna(0)

# Convert PFM to PWM
pwm = seqlogo.pfm2pwm(pfm.values)
print(pwm)
pwm.to_numpy()


pfm


Pwm_pwm = seqlogo.Pwm(pwm, alphabet_type = 'DNA')


seqlogo.seqlogo(Pwm_pwm,  format = 'svg')


from pyjaspar import jaspardb

#Create the JASPAR2022 release object    
jdb_obj = jaspardb(release='JASPAR2024')

#Fetch motif by ID
motif = jdb_obj.fetch_motif_by_id('MA0095.2')
print(motif.name)

#Fetch motifs by TF name
motifs = jdb_obj.fetch_motifs_by_name('KFL4')
print(len(motifs))
