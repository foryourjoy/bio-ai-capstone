





# 1.

import pandas as pd
import matplotlib.pyplot as plt
gendata = pd.read_excel('Generated promoters & Candidates.xlsx')
natdata = pd.read_excel('PCC6803 Promoter and reads 100bp.xlsx')





# 2. 

def sixmer_candidates(x, num):
    sixmerlist = []
    for i in range(3712):
        for j in range(20-6+1):
            sixmerct.append(x[i][80+j:86+j])
    sixmercand =list(set(sixmerlist))
    sixmercnt = []
    for i in sixmercand:
            sixmercnt.append(sixmerlist.count(i))
    result = []
    cnt = 0
    
    while cnt<num:
        popindex = max(sixmercnt)
        result.append(sixmercand[sixmercnt.index(popindex)])
        sixmercand.remove(result[-1])
        sixmercnt.remove(popindex)
    return result





# 3.
            

def checkseq(seq,target,freq):
    checklist = []
    for j in range(100-6+1):
        check = 0
        for i in seq:
            if i[j:j+6] == target:
                check+=1
        checklist.append(check/freq)
    return checklist

gen_promoter = gendata['promoter'].tolist()
nat_promoter = natdata['Promoter'].tolist()
nat_reads = natdata['Reads'].tolist()





# 4.

nat_tataat = checkseq(nat_promoter,'TATAAT',3712)
nat_taaaat = checkseq(nat_promoter,'TAAAAT',3712)
nat_tagaat = checkseq(nat_promoter,'TAGAAT',3712)
nat_aaaata = checkseq(nat_promoter,'AAAATA',3712)
gen_tataat = checkseq(gen_promoter,'TATAAT',10000)
gen_taaaat = checkseq(gen_promoter,'TAAAAT',10000)
gen_tagaat = checkseq(gen_promoter,'TAGAAT',10000)
gen_aaaata = checkseq(gen_promoter,'AAAATA',10000)





# 5.

fig = plt.figure(figsize=(8,8)) 
fig.set_facecolor('white')
ax1 = fig.add_subplot()
color1 = 'green'
ax1.plot(range(-100,-5), nat_tataat, color=color1, label = 'Natural',linewidth = 4)
ax1.set_yticks(np.arange(0.00,0.04,0.008))
ax1.tick_params(axis='y')

 
color2 = 'orange'
ax2 = ax1.twinx()
ax2.plot(range(-100,-5), gen_tataat, color=color2,  label = 'Generated',linewidth = 4)
ax2.tick_params(axis='y')
ax2.set_yticks(np.arange(0.00,0.4,0.08))

plt.show()
