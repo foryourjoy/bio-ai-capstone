import pandas as pd
import matplotlib.pyplot as plt


gendata = pd.read_csv('Generated promoters & Candidates.csv')
natdata = pd.read_csv('PCC6803 Promoter and reads 100bp.csv')


gendata.head()


gendata.shape


natdata.head()


natdata.shape


gen_promoter = gendata['Promoter'].tolist()
nat_promoter = natdata['Promoter'].tolist()


position_counts = [0] * 100
pattern = 'TATAAT'

for p in nat_promoter:
    matches = re.finditer(pattern, p)
    for match in matches:
        start = match.start() - 100  # Convert to position relative to TSS
        end = match.end() - 100
        for i in range(start, end):
            if -100 <= i < 0:  # Ensure the position is within the valid range
                position_counts[i + 100] += 1  # Shift to 0-based index for the list

# Create a histogram plot
plt.figure(figsize=(12, 6))
plt.bar(range(-100, 0), position_counts, width=1.0, align='edge')
plt.xlabel('Position relative to TSS')
plt.ylabel('Frequency of TATAAT sequences')
plt.title('Frequency of TATAAT sequences in promoter regions')
plt.xticks(range(-100,1,10))
plt.grid(True)
plt.show()


patterns = ['TATAAT', 'TAAAAT', 'TAGAAT', 'AAAATA']  # List of different patterns to search for

# Create subplots
fig, axs = plt.subplots(2,2, figsize=(12, 12))  # 2x2 grid of subplots
axs = axs.flatten()  # Flatten the 2D array of axes to 1D for easier iteration

for idx, pattern in enumerate(patterns):
    position_counts = [0] * 100  # Initialize a list to hold the counts for each position from -100 to 0

    for p in nat_promoter:
        matches = re.finditer(pattern, p)
        for match in matches:
            start = match.start() - 100  # Convert to position relative to TSS
            end = match.end() - 100
            for i in range(start, end):
                if -100 <= i < 0:  # Ensure the position is within the valid range
                    position_counts[i + 100] += 1  # Shift to 0-based index for the list
                    
    normalized_counts = [(count / len(nat_promoter)) for count in position_counts]
    
    # Plot the histogram for the current pattern
    axs[idx].bar(range(-100, 0), normalized_counts, width=1.0, edgecolor='black', align='edge')
    axs[idx].set_xlabel('Position relative to TSS')
    axs[idx].set_ylabel('Frequency')
    axs[idx].set_title(f'Frequency of {pattern} sequences')
    axs[idx].grid(True)
    axs[idx].set_ylim(0, 0.15)
    axs[idx].set_xticks(range(-100, 1, 10))

plt.tight_layout()  # Adjust subplots to fit into the figure area
plt.show()


patterns = ['TATAAT', 'TAAAAT', 'TAGAAT', 'AAAATA']  # List of different patterns to search for

# Create subplots
fig, axs = plt.subplots(2,2, figsize=(12, 12))  # 2x2 grid of subplots
axs = axs.flatten()  # Flatten the 2D array of axes to 1D for easier iteration

for idx, pattern in enumerate(patterns):
    position_counts = [0] * 100  # Initialize a list to hold the counts for each position from -100 to 0

    for p in gen_promoter:
        matches = re.finditer(pattern, p)
        for match in matches:
            start = match.start() - 100  # Convert to position relative to TSS
            end = match.end() - 100
            for i in range(start, end):
                if -100 <= i < 0:  # Ensure the position is within the valid range
                    position_counts[i + 100] += 1  # Shift to 0-based index for the list
                    
    normalized_counts = [(count / len(gen_promoter)) for count in position_counts]
    
    # Plot the histogram for the current pattern
    axs[idx].bar(range(-100, 0), normalized_counts, width=1.0, edgecolor='black', align='edge')
    axs[idx].set_xlabel('Position relative to TSS')
    axs[idx].set_ylabel('Frequency')
    axs[idx].set_title(f'Frequency of {pattern} sequences')
    axs[idx].grid(True)
    axs[idx].set_ylim(0, 0.7)

plt.tight_layout()  # Adjust subplots to fit into the figure area
plt.show()


import re
import matplotlib.pyplot as plt

patterns = ['TATAAT', 'TAAAAT', 'TAGAAT', 'AAAATA']  # List of different patterns to search for

# Create subplots
fig, axs = plt.subplots(2, 2, figsize=(12, 12))  # 2x2 grid of subplots
axs = axs.flatten()  # Flatten the 2D array of axes to 1D for easier iteration

for idx, pattern in enumerate(patterns):
    position_counts_nat = [0] * 100  # Counts for nat_promoter
    position_counts_gen = [0] * 100  # Counts for gen_promoter

    # Count occurrences in nat_promoter
    for p in nat_promoter:
        matches = re.finditer(pattern, p)
        for match in matches:
            start = match.start() - 100  # Convert to position relative to TSS
            end = match.end() - 100
            for i in range(start, end):
                if -100 <= i < 0:  # Ensure the position is within the valid range
                    position_counts_nat[i + 100] += 1/len(nat_promoter)  # Shift to 0-based index for the list

    # Count occurrences in gen_promoter
    for p in gen_promoter:
        matches = re.finditer(pattern, p)
        for match in matches:
            start = match.start() - 100  # Convert to position relative to TSS
            end = match.end() - 100
            for i in range(start, end):
                if -100 <= i < 0:  # Ensure the position is within the valid range
                    position_counts_gen[i + 100] += 1/len(gen_promoter)  # Shift to 0-based index for the list

    # # Normalize the counts by the number of promoter sequences
    # normalized_counts_nat = [count / len(nat_promoter) for count in position_counts_nat]
    # normalized_counts_gen = [count / len(gen_promoter) for count in position_counts_gen]

    # Plot the histogram for the current pattern
    axs[idx].bar(range(-100, 0), position_counts_nat, width=1.0, color = 'red', align='edge', alpha=0.5, label='nat_promoter')
    axs[idx].bar(range(-100, 0), position_counts_gen, width=1.0, color='grey', align='edge', alpha=0.5, label='gen_promoter')
    axs[idx].set_xlabel('Position relative to TSS')
    axs[idx].set_ylabel('Normalized Frequency')
    axs[idx].set_title(f'Frequency of {pattern} sequences')
    axs[idx].grid(True)
    #axs[idx].set_ylim(0, 0.15)
    axs[idx].set_xticks(range(-100, 1, 10))
    axs[idx].legend()

plt.tight_layout()  # Adjust subplots to fit into the figure area
plt.show()



pcc7942 = pd.read_csv('final_7942promoter.csv')['0'].tolist()


patterns = ['TATAAT', 'TAAAAT', 'TAGAAT', 'AAAATA']  # List of different patterns to search for

# Create subplots
fig, axs = plt.subplots(2,2, figsize=(12, 12))  # 2x2 grid of subplots
axs = axs.flatten()  # Flatten the 2D array of axes to 1D for easier iteration

for idx, pattern in enumerate(patterns):
    position_counts = [0] * 100  # Initialize a list to hold the counts for each position from -100 to 0

    for p in pcc7942:
        matches = re.finditer(pattern, p)
        for match in matches:
            start = match.start() - 100  # Convert to position relative to TSS
            end = match.end() - 100
            for i in range(start, end):
                if -100 <= i < 0:  # Ensure the position is within the valid range
                    position_counts[i + 100] += 1 /len(pcc7942) # Shift to 0-based index for the list
    
    # Plot the histogram for the current pattern
    axs[idx].bar(range(-100, 0), position_counts, width=1.0, edgecolor='black', align='edge')
    axs[idx].set_xlabel('Position relative to TSS')
    axs[idx].set_ylabel('Frequency')
    axs[idx].set_title(f'Frequency of {pattern} sequences')
    axs[idx].grid(True)
    axs[idx].set_ylim(0, 0.04)
    axs[idx].set_xticks(range(-100, 1, 10))

plt.tight_layout()  # Adjust subplots to fit into the figure area
plt.show()


import re
import matplotlib.pyplot as plt

patterns = ['TATAAT', 'TAAAAT', 'TAGAAT', 'AAAATA']  # List of different patterns to search for

# Create subplots
fig, axs = plt.subplots(2, 2, figsize=(12, 12))  # 2x2 grid of subplots
axs = axs.flatten()  # Flatten the 2D array of axes to 1D for easier iteration

for idx, pattern in enumerate(patterns):
    position_counts_6803 = [0] * 100  # Counts for nat_promoter
    position_counts_7942 = [0] * 100  # Counts for gen_promoter

    # Count occurrences in nat_promoter
    for p in nat_promoter:
        matches = re.finditer(pattern, p)
        for match in matches:
            start = match.start() - 100  # Convert to position relative to TSS
            end = match.end() - 100
            for i in range(start, end):
                if -100 <= i < 0:  # Ensure the position is within the valid range
                    position_counts_6803[i + 100] += 1/len(nat_promoter)  # Shift to 0-based index for the list

    # Count occurrences in gen_promoter
    for p in pcc7942:
        matches = re.finditer(pattern, p)
        for match in matches:
            start = match.start() - 100  # Convert to position relative to TSS
            end = match.end() - 100
            for i in range(start, end):
                if -100 <= i < 0:  # Ensure the position is within the valid range
                    position_counts_7942[i + 100] += 1/len(pcc7942)  # Shift to 0-based index for the list

    # Plot the histogram for the current pattern
    axs[idx].bar(range(-100, 0), position_counts_6803, width=1.0, color = 'red', align='edge', alpha=0.5, label='PCC6803')
    axs[idx].bar(range(-100, 0), position_counts_7942, width=1.0, color='blue', align='edge', alpha=0.5, label='PCC7942')
    axs[idx].set_xlabel('Position relative to TSS')
    axs[idx].set_ylabel('Normalized Frequency')
    axs[idx].set_title(f'Frequency of {pattern} sequences')
    axs[idx].grid(True)
    #axs[idx].set_ylim(0, 0.15)
    axs[idx].set_xticks(range(-100, 1, 10))
    axs[idx].legend()

plt.tight_layout()  # Adjust subplots to fit into the figure area
plt.show()



from collections import Counter

def sixmer_candidates(promoter_sequences, num):
    # Initialize a Counter to store counts for all 6-mers
    all_sixmers_counter = Counter()

    # Iterate over each promoter sequence
    for promoter in promoter_sequences:
        # Generate all possible 6-mers for the current promoter
        promoter_sixmers = [promoter[i:i+6] for i in range(len(promoter) - 5)]
        
        # Update the Counter with counts of 6-mers from the current promoter
        all_sixmers_counter.update(promoter_sixmers)

    # Get the top 'num' 6-mers and their frequencies
    top_sixmers = all_sixmers_counter.most_common(num)
    
    return top_sixmers

# Example usage:
pcc6803 = nat_promoter

num = 15  # Number of top 6-mers to retrieve

pcc6803_sixmers = sixmer_candidates(pcc6803, num)
pcc7942_sixmers = sixmer_candidates(pcc7942, num)

print("Top 15 6-mers in PCC6803 promoter sequences:")
for sixmer, count in pcc6803_sixmers:
    print(f"{sixmer}: {count}")

print("\nTop 15 6-mers in PCC7942 promoter sequences:")
for sixmer, count in pcc7942_sixmers:
    print(f"{sixmer}: {count}")



from collections import Counter

def sixmer_candidates(promoter_sequences, num):
    # Initialize a Counter to store counts for all 6-mers
    all_sixmers_counter = Counter()

    # Iterate over each promoter sequence
    for promoter in promoter_sequences:
        # Determine the start position for the upstream -40 region
        start_position = max(len(promoter) - 16, 0)
        
        # Generate all possible 6-mers for the upstream -40 region
        promoter_sixmers = [promoter[i:i+6] for i in range(start_position, len(promoter) - 5)]
        
        # Update the Counter with counts of 6-mers from the upstream -40 region of the current promoter
        all_sixmers_counter.update(promoter_sixmers)

    # Get the top 'num' 6-mers and their frequencies
    top_sixmers = all_sixmers_counter.most_common(num)
    
    return top_sixmers

# Example usage:
pcc6803 = nat_promoter

num = 15  # Number of top 6-mers to retrieve

pcc6803_sixmers = sixmer_candidates(pcc6803, num)
pcc7942_sixmers = sixmer_candidates(pcc7942, num)

print("Top 15 6-mers in PCC6803 promoter sequences:")
for sixmer, count in pcc6803_sixmers:
    print(f"{sixmer}: {count}")

print("\nTop 15 6-mers in PCC7942 promoter sequences:")
for sixmer, count in pcc7942_sixmers:
    print(f"{sixmer}: {count}")



import matplotlib.pyplot as plt
from collections import Counter, defaultdict
import numpy as np

# Function to calculate 6-mer frequencies at each position
def calculate_6mer_frequencies(sequences):
    position_frequencies = defaultdict(Counter)
    for seq in sequences:
        for i in range(len(seq) - 5):
            kmer = seq[i:i+6]
            position_frequencies[i][kmer] += 1
    return position_frequencies

# Calculate 6-mer frequencies
position_frequencies = calculate_6mer_frequencies(nat_promoter)

# Normalize frequencies to get relative frequencies
total_sequences = len(nat_promoter)
relative_frequencies = {pos: {kmer: count / total_sequences for kmer, count in freqs.items()} 
                        for pos, freqs in position_frequencies.items()}

# Choose a 6-mer to plot (for example: 'GACTGA')
selected_kmer = 'TATAAT'
positions = sorted(relative_frequencies.keys())
frequencies = [relative_frequencies[pos].get(selected_kmer, 0) for pos in positions]

# Plotting the relative frequencies of the selected 6-mer
plt.figure(figsize=(10, 5))
plt.plot(positions, frequencies, color='g')
plt.title(f'Relative Position of 6-mer "{selected_kmer}" in Promoter Sequences')
plt.xlabel('Position in Promoter Sequence (0 to 99)')
plt.ylabel('Relative Frequency')
plt.grid(True)
plt.show()



import matplotlib.pyplot as plt
from collections import Counter, defaultdict
import numpy as np

# Function to calculate 6-mer frequencies at each position
def calculate_6mer_frequencies(sequences):
    position_frequencies = defaultdict(Counter)
    for seq in sequences:
        for i in range(len(seq) - 5):
            kmer = seq[i:i+6]
            position_frequencies[i][kmer] += 1
    return position_frequencies

# Calculate 6-mer frequencies for both sets of sequences
nat_position_frequencies = calculate_6mer_frequencies(nat_promoter)
gen_position_frequencies = calculate_6mer_frequencies(gen_promoter)

# Normalize frequencies to get relative frequencies
def normalize_frequencies(position_frequencies, total_sequences):
    return {pos: {kmer: count / total_sequences for kmer, count in freqs.items()} 
            for pos, freqs in position_frequencies.items()}

total_nat_sequences = len(nat_promoter)
total_gen_sequences = len(gen_promoter)

nat_relative_frequencies = normalize_frequencies(nat_position_frequencies, total_nat_sequences)
gen_relative_frequencies = normalize_frequencies(gen_position_frequencies, total_gen_sequences)

# List of k-mers to plot
kmers_to_plot = ['TATAAT', 'TAAAAT', 'TAGAAT', 'AAAATA']  # Add more 6-mers as needed

# Plotting the relative frequencies of each selected 6-mer
plt.figure(figsize=(6, 6))

for i, kmer in enumerate(kmers_to_plot):
    positions = sorted(nat_relative_frequencies.keys())
    nat_frequencies = [nat_relative_frequencies[pos].get(kmer, 0) for pos in positions]
    gen_frequencies = [gen_relative_frequencies[pos].get(kmer, 0) for pos in positions]

    plt.subplot(2,2, i + 1)
    plt.plot(positions, nat_frequencies, color='g', label='Natural')
    plt.plot(positions, gen_frequencies, color='y', label='Generated')
    plt.title(f'{kmer}')
    plt.xlabel('Distance to TSS')
    plt.ylabel('Relative Frequency')
    plt.legend()
    plt.grid(True)

plt.tight_layout()
plt.show()



import matplotlib.pyplot as plt
from collections import Counter, defaultdict
import numpy as np

# Function to calculate 6-mer frequencies at each position
def calculate_6mer_frequencies(sequences):
    position_frequencies = defaultdict(Counter)
    for seq in sequences:
        for i in range(len(seq) - 5):
            kmer = seq[i:i+6]
            position_frequencies[i][kmer] += 1
    return position_frequencies

# Calculate 6-mer frequencies for both sets of sequences
nat_position_frequencies = calculate_6mer_frequencies(nat_promoter)
pcc7942_position_frequencies = calculate_6mer_frequencies(pcc7942)

# Normalize frequencies to get relative frequencies
def normalize_frequencies(position_frequencies, total_sequences):
    return {pos: {kmer: count / total_sequences for kmer, count in freqs.items()} 
            for pos, freqs in position_frequencies.items()}

total_nat_sequences = len(nat_promoter)
total_pcc7942_sequences = len(pcc7942)

nat_relative_frequencies = normalize_frequencies(nat_position_frequencies, total_nat_sequences)
pcc7942_relative_frequencies = normalize_frequencies(pcc7942_position_frequencies, total_pcc7942_sequences)

# List of k-mers to plot
kmers_to_plot = ['TATAAT', 'TAAAAT', 'TAGAAT', 'AAAATA'] # Add more 6-mers as needed

# Plotting the relative frequencies of each selected 6-mer
plt.figure(figsize=(6, 6))

for i, kmer in enumerate(kmers_to_plot):
    positions = sorted(nat_relative_frequencies.keys())
    nat_frequencies = [nat_relative_frequencies[pos].get(kmer, 0) for pos in positions]
    pcc7942_frequencies = [pcc7942_relative_frequencies[pos].get(kmer, 0) for pos in positions]

    plt.subplot(2,2, i + 1)
    plt.plot(positions, nat_frequencies, color='b', label='pcc6803')
    plt.plot(positions, pcc7942_frequencies, color='r', label='pcc7942')
    plt.title(f'{kmer}')
    plt.xlabel('Distance to TSS')
    plt.ylabel('Relative Frequency')
    plt.legend()
    plt.grid(True)

plt.tight_layout()
plt.show()



import matplotlib.pyplot as plt
from collections import Counter, defaultdict
import numpy as np

# Function to calculate 6-mer frequencies at each position
def calculate_6mer_frequencies(sequences):
    position_frequencies = defaultdict(Counter)
    for seq in sequences:
        for i in range(len(seq) - 5):
            kmer = seq[i:i+6]
            position_frequencies[i][kmer] += 1
    return position_frequencies

# Calculate 6-mer frequencies for both sets of sequences
nat_position_frequencies = calculate_6mer_frequencies(nat_promoter)
pcc7942_position_frequencies = calculate_6mer_frequencies(pcc7942)

# Normalize frequencies to get relative frequencies
def normalize_frequencies(position_frequencies, total_sequences):
    return {pos: {kmer: count / total_sequences for kmer, count in freqs.items()} 
            for pos, freqs in position_frequencies.items()}

total_nat_sequences = len(nat_promoter)
total_pcc7942_sequences = len(pcc7942)

nat_relative_frequencies = normalize_frequencies(nat_position_frequencies, total_nat_sequences)
pcc7942_relative_frequencies = normalize_frequencies(pcc7942_position_frequencies, total_pcc7942_sequences)

# List of k-mers to plot
kmers_to_plot = ['TAGAAT','TAAGAT','TAGGAT', 'AGAATA']  # Add more 6-mers as needed

# Plotting the relative frequencies of each selected 6-mer
plt.figure(figsize=(6, 6))

for i, kmer in enumerate(kmers_to_plot):
    positions = sorted(nat_relative_frequencies.keys())
    nat_frequencies = [nat_relative_frequencies[pos].get(kmer, 0) for pos in positions]
    pcc7942_frequencies = [pcc7942_relative_frequencies[pos].get(kmer, 0) for pos in positions]

    plt.subplot(2,2, i + 1)
    plt.plot(positions, nat_frequencies, color='b', label='pcc6803')
    plt.plot(positions, pcc7942_frequencies, color='r', label='pcc7942')
    plt.title(f'{kmer}')
    plt.xlabel('Distance to TSS')
    plt.ylabel('Relative Frequency')
    plt.legend()
    plt.grid(True)

plt.tight_layout()
plt.show()

