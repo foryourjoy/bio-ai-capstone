





# 1.

import numpy as np
import pandas as pd





# 2.

pccgene = []
pccseq = ''
data = open('Whole_genome_of_synechocystis.txt','r')
line = data.readlines()
gspoint = line.index('ORIGIN      \')
for i in range(len(line)-gspoint-1):
    templist = line[i+gspoint].strip().split()[1:]
    for partseq in templist:
        pccseq = pccseq+partseq
data.close()
pccseq = pccseq.upper()


pccgene = []
pccseq = ''

data = open('Whole_genome_of_synechocystis.txt','r')
lines = data.readlines()
line = [line.strip() for line in lines]
pccseq = ''.join(line[1:])
data.close()
pccseq = pccseq.upper()
print(pccseq[:500])


len(pccseq)





!pip install openpyxl


# 3.

trlist = []
comp_dic = {'A':'T','G':'C','C':'G','T':'A'}
prolen = 100
df = pd.read_excel('Differential_RNA_sequencing_data.xlsx',header = 1,sheet_name = 'S1 - All TUs',engine='openpyxl')
numpydf = df.to_numpy()
print(numpydf[:10])
for i in numpydf:
    # chromosomal DNA
    if i[0] == 'Chr':
        #positive strands
        if i[4] == '+':
            # pccseq[i[2](TSS) - (prolen+1) (TSS로부터 100bp upstream) : TSS-1] - promoter sequence indexing, i[19]: RNA reads
            trlist.append((pccseq[i[2]-(prolen+1):i[2]-1],i[19]))

        # negative strands
        else:
            compseq = ''
            seq = pccseq[i[2]:i[2]+prolen]
            for s in seq:
                compseq +=comp_dic[s]
            #역방향으로 complementary seq promoter 추출
            revcomp_seq = compseq[::-1]
            trlist.append((revcomp_seq, i[19]))
    else:
        break





# 4. 

from openpyxl import Workbook
write_wb = Workbook()
write_ws = write_wb.active

write_ws['A1'] = 'Promoter'
write_ws['B1'] = 'Reads'

for i in range(len(trlist)):
    write_ws.cell(i+2,1,trlist[i][0])
    write_ws.cell(i+2,2,trlist[i][1])

write_wb.save('Training dataset.xlsx')



