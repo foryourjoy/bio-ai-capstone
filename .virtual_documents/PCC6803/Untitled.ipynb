import pandas as pd
import matplotlib.pyplot as plt


gendata = pd.read_csv('Generated promoters & Candidates.csv')
natdata = pd.read_csv('PCC6803 Promoter and reads 100bp.csv')


gendata.head()


gendata.shape


natdata.head()


natdata.shape


gen_promoter = gendata['Promoter'].tolist()
nat_promoter = natdata['Promoter'].tolist()


position_counts = [0] * 100
pattern = 'TATAAT'

for p in nat_promoter:
    matches = re.finditer(pattern, p)
    for match in matches:
        start = match.start() - 100  # Convert to position relative to TSS
        end = match.end() - 100
        for i in range(start, end):
            if -100 <= i < 0:  # Ensure the position is within the valid range
                position_counts[i + 100] += 1  # Shift to 0-based index for the list

# Create a histogram plot
plt.figure(figsize=(12, 6))
plt.bar(range(-100, 0), position_counts, width=1.0, align='edge')
plt.xlabel('Position relative to TSS')
plt.ylabel('Frequency of TATAAT sequences')
plt.title('Frequency of TATAAT sequences in promoter regions')
plt.xticks(range(-100,1,10))
plt.grid(True)
plt.show()


patterns = ['TATAAT', 'TAAAAT', 'TAGAAT', 'AAAATA']  # List of different patterns to search for

# Create subplots
fig, axs = plt.subplots(2,2, figsize=(12, 12))  # 2x2 grid of subplots
axs = axs.flatten()  # Flatten the 2D array of axes to 1D for easier iteration

for idx, pattern in enumerate(patterns):
    position_counts = [0] * 100  # Initialize a list to hold the counts for each position from -100 to 0

    for p in nat_promoter:
        matches = re.finditer(pattern, p)
        for match in matches:
            start = match.start() - 100  # Convert to position relative to TSS
            end = match.end() - 100
            for i in range(start, end):
                if -100 <= i < 0:  # Ensure the position is within the valid range
                    position_counts[i + 100] += 1  # Shift to 0-based index for the list
                    
    normalized_counts = [(count / len(nat_promoter)) for count in position_counts]
    
    # Plot the histogram for the current pattern
    axs[idx].bar(range(-100, 0), normalized_counts, width=1.0, edgecolor='black', align='edge')
    axs[idx].set_xlabel('Position relative to TSS')
    axs[idx].set_ylabel('Frequency')
    axs[idx].set_title(f'Frequency of {pattern} sequences')
    axs[idx].grid(True)
    axs[idx].set_ylim(0, 0.15)
    axs[idx].set_xticks(range(-100, 1, 10))

plt.tight_layout()  # Adjust subplots to fit into the figure area
plt.show()


patterns = ['TATAAT', 'TAAAAT', 'TAGAAT', 'AAAATA']  # List of different patterns to search for

# Create subplots
fig, axs = plt.subplots(2,2, figsize=(12, 12))  # 2x2 grid of subplots
axs = axs.flatten()  # Flatten the 2D array of axes to 1D for easier iteration

for idx, pattern in enumerate(patterns):
    position_counts = [0] * 100  # Initialize a list to hold the counts for each position from -100 to 0

    for p in gen_promoter:
        matches = re.finditer(pattern, p)
        for match in matches:
            start = match.start() - 100  # Convert to position relative to TSS
            end = match.end() - 100
            for i in range(start, end):
                if -100 <= i < 0:  # Ensure the position is within the valid range
                    position_counts[i + 100] += 1  # Shift to 0-based index for the list
                    
    normalized_counts = [(count / len(gen_promoter)) for count in position_counts]
    
    # Plot the histogram for the current pattern
    axs[idx].bar(range(-100, 0), normalized_counts, width=1.0, edgecolor='black', align='edge')
    axs[idx].set_xlabel('Position relative to TSS')
    axs[idx].set_ylabel('Frequency')
    axs[idx].set_title(f'Frequency of {pattern} sequences')
    axs[idx].grid(True)
    axs[idx].set_ylim(0, 0.7)

plt.tight_layout()  # Adjust subplots to fit into the figure area
plt.show()


import re
import matplotlib.pyplot as plt

patterns = ['TATAAT', 'TAAAAT', 'TAGAAT', 'AAAATA']  # List of different patterns to search for

# Create subplots
fig, axs = plt.subplots(2, 2, figsize=(12, 12))  # 2x2 grid of subplots
axs = axs.flatten()  # Flatten the 2D array of axes to 1D for easier iteration

for idx, pattern in enumerate(patterns):
    position_counts_nat = [0] * 100  # Counts for nat_promoter
    position_counts_gen = [0] * 100  # Counts for gen_promoter

    # Count occurrences in nat_promoter
    for p in nat_promoter:
        matches = re.finditer(pattern, p)
        for match in matches:
            start = match.start() - 100  # Convert to position relative to TSS
            end = match.end() - 100
            for i in range(start, end):
                if -100 <= i < 0:  # Ensure the position is within the valid range
                    position_counts_nat[i + 100] += 1/len(nat_promoter)  # Shift to 0-based index for the list

    # Count occurrences in gen_promoter
    for p in gen_promoter:
        matches = re.finditer(pattern, p)
        for match in matches:
            start = match.start() - 100  # Convert to position relative to TSS
            end = match.end() - 100
            for i in range(start, end):
                if -100 <= i < 0:  # Ensure the position is within the valid range
                    position_counts_gen[i + 100] += 1/len(gen_promoter)  # Shift to 0-based index for the list

    # # Normalize the counts by the number of promoter sequences
    # normalized_counts_nat = [count / len(nat_promoter) for count in position_counts_nat]
    # normalized_counts_gen = [count / len(gen_promoter) for count in position_counts_gen]

    # Plot the histogram for the current pattern
    axs[idx].bar(range(-100, 0), normalized_counts_nat, width=1.0, color = 'red', align='edge', alpha=0.5, label='nat_promoter')
    axs[idx].bar(range(-100, 0), normalized_counts_gen, width=1.0, color='grey', align='edge', alpha=0.5, label='gen_promoter')
    axs[idx].set_xlabel('Position relative to TSS')
    axs[idx].set_ylabel('Normalized Frequency')
    axs[idx].set_title(f'Frequency of {pattern} sequences')
    axs[idx].grid(True)
    #axs[idx].set_ylim(0, 0.15)
    axs[idx].set_xticks(range(-100, 1, 10))
    axs[idx].legend()

plt.tight_layout()  # Adjust subplots to fit into the figure area
plt.show()



pcc7942 = pd.read_csv('final_7942promoter.csv')['0'].tolist()


pcc7942


patterns = ['TATAAT', 'TAAAAT', 'TAGAAT', 'AAAATA']  # List of different patterns to search for

# Create subplots
fig, axs = plt.subplots(2,2, figsize=(12, 12))  # 2x2 grid of subplots
axs = axs.flatten()  # Flatten the 2D array of axes to 1D for easier iteration

for idx, pattern in enumerate(patterns):
    position_counts = [0] * 100  # Initialize a list to hold the counts for each position from -100 to 0

    for p in pcc7942:
        matches = re.finditer(pattern, p)
        for match in matches:
            start = match.start() - 100  # Convert to position relative to TSS
            end = match.end() - 100
            for i in range(start, end):
                if -100 <= i < 0:  # Ensure the position is within the valid range
                    position_counts[i + 100] += 1 /len(pcc7942) # Shift to 0-based index for the list
    
    # Plot the histogram for the current pattern
    axs[idx].bar(range(-100, 0), position_counts, width=1.0, edgecolor='black', align='edge')
    axs[idx].set_xlabel('Position relative to TSS')
    axs[idx].set_ylabel('Frequency')
    axs[idx].set_title(f'Frequency of {pattern} sequences')
    axs[idx].grid(True)
    axs[idx].set_ylim(0, 0.04)
    axs[idx].set_xticks(range(-100, 1, 10))

plt.tight_layout()  # Adjust subplots to fit into the figure area
plt.show()
