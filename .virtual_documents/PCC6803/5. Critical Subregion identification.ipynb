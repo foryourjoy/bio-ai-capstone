





# 1.

from __future__ import absolute_import, division, print_function, unicode_literals
import tensorflow as tf
import pandas as pd
import matplotlib.pyplot as plt
import numpy as np
import random
from scipy.stats import pearsonr
from tqdm import tqdm
data = pd.read_csv('PCC6803 Promoter and reads 100bp.csv')
print(1)
model=tf.keras.models.load_model('CNN_model.h5')





# 2. 

def changeseq(seq,start,ran):
    nucleotide = ['A','C','G','T']
    newseq = ''
    for i in range(ran):
        nucleotide = ['A','C','G','T']
        nucleotide.remove(seq[i+start])
        newseq += random.choice(nucleotide)
    return seq[:start]+newseq+seq[start+ran:]

def one_hot_encoding(df, seq_column, expression):
    bases = ['A','C','G','T']
    base_dict = dict(zip(bases,range(4)))
    n = len(df)
    total_width = df[seq_column].str.len().max()+20
    X = np.zeros((n,1,4,total_width))
    seqs = df[seq_column].values
    for i in range(n):
        seq = seqs[i]
        for b in range(len(seq)):
            X[i,0,base_dict[seq[b]], b+10+100-len(seq)] = 1    
    X = X.astype(theano.config.floatX)
    y = np.asarray(df[expression].values, dtype = theano.config.floatX)[:,np.newaxis]
    return X, y, total_width

def one_hot_encoding_mut(df, seq_column, expression, start1,start2,ran):
    bases = ['A','C','G','T']
    base_dict = dict(zip(bases,range(4)))
    n = len(df)
    total_width = df[seq_column].str.len().max()+20
    X = np.zeros((n,1,4,total_width))
    seqs = df[seq_column].values
    for i in range(n):
        seq = changeseq(seqs[i],start1,ran)
        seq = changeseq(seq,start2,ran)
        for b in range(len(seq)):
            X[i,0,base_dict[seq[b]], b+10+100-len(seq)] = 1    
    X = X.astype(theano.config.floatX)
    y = np.asarray(df[expression].values, dtype = theano.config.floatX)[:,np.newaxis]
    return X, y, total_width





# 3.
import numpy as np
import theano
div = 33
subregion_size = int(100/div)
subregion_matrix = np.zeros((div-1,div-1))
ran = subregion_size

for j in tqdm(range(div-1)):
    for k in range(div-1):
        arl = 0
        for i in range(10):
            X, y, total_width = one_hot_encoding(data,'Promoter','Reads')
            Xm, ym, total_widthm = one_hot_encoding_mut(data,'Promoter','Reads',subregion_size*j+2,subregion_size*k+2,ran)
            arl += pearsonr(model.predict(X)[:,0], model.predict(Xm)[:,0])[0]
        subregion_matrix[j][k] = arl/10
for i in range(div-1):
    subregion_matrix[i][i] = 1
    





np.save('subregion_matrix',subregion_matrix)


sm = np.load('subregion_matrix.npy')
sm


#4
plt.figure(figsize = (40,30))
plt.pcolor(subregion_matrix,cmap = 'PiYG')
plt.title('3bp sequence mutation (3N)\n',fontsize = 60)
'''
plt.xticks(np.arange(-97,0.5,3),rotation = 45,fontsize = 40)
plt.yticks(np.arange(-97,0.5,3),rotation = 45,fontsize = 40)
'''
plt.xlabel('\nMutated promoter sequence position',fontsize = 60)
plt.ylabel('Mutated promoter sequence position\n',fontsize = 60)
cbar = plt.colorbar()
cbar.set_label('\nPearson correlation coefficient',fontsize = 60)
tick_font_size = 40
cbar.ax.tick_params(labelsize=tick_font_size)



