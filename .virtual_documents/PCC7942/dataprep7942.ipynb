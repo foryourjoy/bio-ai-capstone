import pandas as pd


mRNA = pd.read_csv('PCC7942_mRNA.csv')
mRNA


tss = pd.read_csv('PCC7942_TSSites.csv')
tss


pcc7942 = pd.merge(tss, mRNA, on = 'Gene', how = 'inner')
pcc7942


pcc7942 = pcc7942[['Scaffold', 'Transcription Start', 'Strand', 'Gene', 'mean']]
pcc7942


pcc7942 = pcc7942[pcc7942['Scaffold'] == 'NC_007604']


pcc7942





pcc7942['Strand'].unique()


trlist = []
comp_dic = {'A':'T','G':'C','C':'G','T':'A'}
prolen = 100
numpydf = pcc7942.to_numpy()
print(numpydf[:10])



pccgene = []
pccseq = ''

data = open('pcc7942_final_full','r')
lines = data.readlines()
line = [line.strip() for line in lines]
pccseq = ''.join(line[0:])
data.close()
pccseq = pccseq.upper()
print(pccseq[:500])


pccseq[:10000]


len(pccseq)


for i in numpydf:
    # chromosomal DNA
    if i[0] == 'NC_007604':
        #positive strands
        if i[2] == '+':
            # pccseq[i[2](TSS) - (prolen+1) (TSS로부터 100bp upstream) : TSS-1] - promoter sequence indexing, i[19]: RNA reads
            if (i[1]-(prolen+1)) > 0:
                trlist.append((pccseq[i[1]-(prolen+1):i[1]-1],i[4]))

        # negative strands
        else:
            compseq = ''
            seq = pccseq[i[1]:i[1]+prolen]
            for s in seq:
                compseq +=comp_dic[s]
            #역방향으로 complementary seq promoter 추출
            revcomp_seq = compseq[::-1]
            trlist.append((revcomp_seq, i[4]))
    else:
        break


trlist


final_list = []


for i in range(len(trlist)):
    final_list.append(trlist[i][0])


df = pd.DataFrame(final_list)
df


df.to_csv('final_7942promoter.csv', index = False)



