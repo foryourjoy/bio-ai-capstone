import pandas as pd


mRNA = pd.read_csv('PCC7942_mRNA.csv')
mRNA


tss = pd.read_csv('PCC7942_TSSites.csv')
tss


pcc7942 = pd.merge(tss, mRNA, on = 'Gene', how = 'inner')
pcc7942


pcc7942 = pcc7942[['Scaffold', 'Transcription Start', 'Strand', 'Gene', 'mean']]
pcc7942


pcc7942['Scaffold'].unique()


pcc7942['Strand'].unique()


pcc7942 = pcc7942[pcc7942['Scaffold'] != 'NC_004990']


pcc7942


from Bio import SeqIO
from Bio.Seq import Seq

scaffold_files = {
    'NC_007604': 'NC_007604.fasta',
    'NC_007595': 'NC_007595.fasta'
}

genome_sequences = {}
for scaffold, fasta_file in scaffold_files.items():
    genome_sequences[scaffold] = SeqIO.read(fasta_file, 'fasta').seq



genome_sequences


# Function to get the promoter sequence
def get_promoter_sequence(row, genome_sequences):
    scaffold = row['Scaffold']
    tss = row['Transcription Start']
    strand = row['Strand']
    
    full_sequence = genome_sequences[scaffold]
    
    if strand == '+':
        start = max(0, tss - 101) #(-) 생기는거 방지
        end = tss-1
    else:  # strand == '-'
        start = tss+1
        end = min(len(full_sequence), tss + 101)
    
    promoter_seq = full_sequence[start:end]
    
    if strand == '-':
        promoter_seq = promoter_seq.reverse_complement()
    
    return str(promoter_seq)

# Apply the function to each row in the dataframe
pcc7942['Promoter Sequence'] = pcc7942.apply(get_promoter_sequence, axis=1, genome_sequences=genome_sequences)

# Save the result to a new CSV file
pcc7942.to_csv('PCC7942_promoter_sequences.csv', index=False)



pcc7942_train = pcc7942[['Promoter Sequence', 'mean']]
pcc7942_train = pcc7942_train.rename(columns={'Promoter Sequence': 'Promoter', 'mean': 'Reads'})
pcc7942_train


pcc7942_train.to_csv('PCC7942_Promoter and reads 100bp.csv', index=False)


len(pcc7942_train['Promoter'][100])
