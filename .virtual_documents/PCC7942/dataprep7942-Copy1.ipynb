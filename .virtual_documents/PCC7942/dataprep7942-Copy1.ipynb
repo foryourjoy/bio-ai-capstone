import pandas as pd


pcc7942 = pd.read_csv('v2_TSS.csv')
pcc7942 = pcc7942[['Start','End','Strand','Mean RNA Seq over ORF']]
pcc7942 = pcc7942.dropna()


pcc7942 = pcc7942.astype({'Start': 'int32', 'End': 'int32', 'Strand': 'int32'})


pcc7942


pcc7942['Strand'].unique()


pcc7942.dtypes


trlist = []
comp_dic = {'A':'T','G':'C','C':'G','T':'A'}
prolen = 100
# dtypes = {0: 'int', 1: 'int', 2: 'int', 3: 'float'} 
numpydf = pcc7942.to_numpy()
print(numpydf[:10])



pccgene = []
pccseq = ''

data = open('pcc7942_final_full','r')
lines = data.readlines()
line = [line.strip() for line in lines]
pccseq = ''.join(line)
data.close()
pccseq = pccseq.upper()
print(pccseq[:500])


pccseq[:10000]


len(pccseq)


for i in numpydf:
    # chromosomal DNA
    #positive strands
    if int(i[2]) == 1:
        # pccseq[i[2](TSS) - (prolen+1) (TSS로부터 100bp upstream) : TSS-1] - promoter sequence indexing, i[19]: RNA reads
        if (int(i[0])-(prolen+1)) > 0:
            trlist.append((pccseq[int(i[0])-(prolen+1):int(i[0])-1],i[3]))

    # negative strands
    else:
        compseq = ''
        seq = pccseq[int(i[1]):int(i[1])+prolen]
        for s in seq:
            compseq +=comp_dic[s]
        #역방향으로 complementary seq promoter 추출
        revcomp_seq = compseq[::-1]
        trlist.append((revcomp_seq, i[3]))


trlist


final_list = []


for i in range(len(trlist)):
    final_list.append(trlist[i][0])


df = pd.DataFrame(final_list)
df


df.to_csv('final_7942promoter.csv', index = False)



