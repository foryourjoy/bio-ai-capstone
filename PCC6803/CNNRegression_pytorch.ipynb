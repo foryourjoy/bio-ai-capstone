{
 "cells": [
  {
   "cell_type": "code",
   "execution_count": 1,
   "id": "26e51ec6-d1a5-47a9-b9a8-2d9e8fbd8160",
   "metadata": {},
   "outputs": [],
   "source": [
    "# import pandas library\n",
    "import pandas as pd\n",
    "\n",
    "# import pyplot for plotting graph\n",
    "import matplotlib.pyplot as plt\n",
    "\n",
    "# import library numpy which helps to manipulate data\n",
    "import numpy as np\n",
    "\n",
    "# import package to split the given data into training and testing set\n",
    "from sklearn.model_selection import train_test_split"
   ]
  },
  {
   "cell_type": "code",
   "execution_count": null,
   "id": "bd31fa68-15da-418b-878c-caeca5ceb96c",
   "metadata": {},
   "outputs": [],
   "source": []
  }
 ],
 "metadata": {
  "kernelspec": {
   "display_name": "Python 3 (ipykernel)",
   "language": "python",
   "name": "python3"
  },
  "language_info": {
   "codemirror_mode": {
    "name": "ipython",
    "version": 3
   },
   "file_extension": ".py",
   "mimetype": "text/x-python",
   "name": "python",
   "nbconvert_exporter": "python",
   "pygments_lexer": "ipython3",
   "version": "3.11.0"
  }
 },
 "nbformat": 4,
 "nbformat_minor": 5
}
